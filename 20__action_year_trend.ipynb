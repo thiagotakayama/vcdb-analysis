{
 "cells": [
  {
   "cell_type": "code",
   "execution_count": null,
   "id": "962c0c97-7683-4a22-957f-edff9451caad",
   "metadata": {},
   "outputs": [],
   "source": [
    "import json\n",
    "import pandas as pd\n",
    "import seaborn as sns\n",
    "from pathlib import Path\n",
    "\n",
    "dtypes = json.loads(Path(\"data/dtypes.json\").read_text())\n",
    "df = pd.read_csv(\"data/vcdb.csv\", dtype=dtypes)\n",
    "# Filter not confirmed incidents\n",
    "df.drop(df.loc[df['security_incident.Confirmed'] == False].index, inplace=True)\n",
    "# Filter old incidents\n",
    "since = 2009\n",
    "until = 2022\n",
    "df.drop(df.loc[df['timeline.incident.year'] < since].index, inplace=True)\n",
    "df.drop(df.loc[df['timeline.incident.year'] > until].index, inplace=True)\n",
    "print(df.shape)"
   ]
  },
  {
   "cell_type": "code",
   "execution_count": null,
   "id": "0d6dbcfc",
   "metadata": {},
   "outputs": [],
   "source": [
    "action_names = [x for x in list(df) if x.startswith(\"action.\") and len(x.split(\".\")) == 2]\n",
    "short_action_names = [x.split(\".\")[1] for x in action_names]\n",
    "df_interesting = df[[\"timeline.incident.year\"] + action_names]\n",
    "grouped = df_interesting.groupby(\"timeline.incident.year\")\n",
    "df_plot = pd.DataFrame(index=grouped.groups.keys(), columns=short_action_names)\n",
    "for group_name, group in grouped:\n",
    "    total = len(group)\n",
    "    action_counts = []\n",
    "    for action in action_names:\n",
    "        try: \n",
    "            count = group[action].value_counts()[True]\n",
    "        except KeyError:\n",
    "            count = 0 \n",
    "        action_counts.append((count * 100) / total)\n",
    "    print(group_name, total, len(action_counts))\n",
    "    df_plot.loc[group_name] = action_counts\n"
   ]
  },
  {
   "cell_type": "code",
   "execution_count": null,
   "id": "248c555d",
   "metadata": {},
   "outputs": [],
   "source": [
    "df_plot.plot(kind=\"line\", figsize=(20,8))"
   ]
  },
  {
   "cell_type": "code",
   "execution_count": null,
   "id": "34e73ca7",
   "metadata": {},
   "outputs": [],
   "source": [
    "display(\n",
    "    df_plot.columns,\n",
    "    df_plot.index,\n",
    "    df_plot.head(30))"
   ]
  }
 ],
 "metadata": {
  "kernelspec": {
   "display_name": "Python 3 (ipykernel)",
   "language": "python",
   "name": "python3"
  },
  "language_info": {
   "codemirror_mode": {
    "name": "ipython",
    "version": 3
   },
   "file_extension": ".py",
   "mimetype": "text/x-python",
   "name": "python",
   "nbconvert_exporter": "python",
   "pygments_lexer": "ipython3",
   "version": "3.11.1"
  }
 },
 "nbformat": 4,
 "nbformat_minor": 5
}
