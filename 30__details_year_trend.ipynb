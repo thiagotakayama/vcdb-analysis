{
 "cells": [
  {
   "cell_type": "code",
   "execution_count": null,
   "id": "962c0c97-7683-4a22-957f-edff9451caad",
   "metadata": {},
   "outputs": [],
   "source": [
    "import json\n",
    "from pathlib import Path\n",
    "import pandas as pd\n",
    "import seaborn as sns\n",
    "import ipywidgets as widgets\n",
    "\n",
    "dtypes = json.loads(Path(\"data/dtypes.json\").read_text())\n",
    "df = pd.read_csv(\"data/vcdb.csv\", dtype=dtypes)\n",
    "# Filter not confirmed incidents\n",
    "df.drop(df.loc[df['security_incident.Confirmed'] == False].index, inplace=True)\n",
    "# Filter old incidents\n",
    "since = 2009\n",
    "until = 2022\n",
    "df.drop(df.loc[df['timeline.incident.year'] < since].index, inplace=True)\n",
    "df.drop(df.loc[df['timeline.incident.year'] > until].index, inplace=True)\n",
    "print(df.shape)"
   ]
  },
  {
   "cell_type": "code",
   "execution_count": null,
   "id": "0d6dbcfc",
   "metadata": {},
   "outputs": [],
   "source": [
    "category_names = [x for x in list(df) if x.startswith(\"action.\") and len(x.split(\".\")) == 2]\n",
    "incident_timeline = [x for x in list(df) if x.startswith(\"timeline.incident\")]\n",
    "incident_status = [x for x in list(df) if x.startswith(\"security_incident.\")]\n",
    "actions = [x for x in list(df) if x.startswith(\"action.\")]\n",
    "style = {'description_width': 'initial'}\n",
    "category = widgets.Dropdown(\n",
    "    options=category_names,\n",
    "    value='action.Hacking',\n",
    "    description='Action categories:',\n",
    "    disabled=False,\n",
    "    style=style\n",
    "    )\n",
    "details = widgets.Dropdown(\n",
    "    options=[\"notes\", \"result\",\"variety\", \"vector\"],\n",
    "    value='variety',\n",
    "    description='Category details:',\n",
    "    disabled=False, \n",
    "    style=style\n",
    "    )\n",
    "display(category, details)"
   ]
  },
  {
   "cell_type": "code",
   "execution_count": null,
   "id": "f8010c49",
   "metadata": {},
   "outputs": [],
   "source": [
    "df_base = df.copy()\n",
    "df_base.drop(df_base.loc[df[category.value] == False].index, inplace=True)\n",
    "category_details = [x for x in list(df_base) if x.startswith(f\"{category.value.lower()}.{details.value}.\")]\n",
    "short_category_details = [x.split(\".\")[-1] for x in category_details]\n",
    "df_base = df_base[[\"timeline.incident.year\"] + category_details]\n",
    "grouped = df_base.groupby(\"timeline.incident.year\")\n",
    "df_plot = pd.DataFrame(index=grouped.groups.keys(), columns=short_category_details)\n",
    "for year, incidents in grouped:\n",
    "    total = len(incidents)\n",
    "    action_counts = []\n",
    "    for detail in category_details:\n",
    "        try:\n",
    "            count = incidents[detail].value_counts()[True]\n",
    "        except KeyError:\n",
    "            count = 0 \n",
    "        action_counts.append((count * 100) / total)\n",
    "    print(year, total, len(action_counts))\n",
    "    df_plot.loc[year] = action_counts\n"
   ]
  },
  {
   "cell_type": "code",
   "execution_count": null,
   "id": "4f54759f",
   "metadata": {},
   "outputs": [],
   "source": [
    "# define threshold\n",
    "threshold = 10\n",
    "# loop through each column in dataframe\n",
    "for col in df_plot:\n",
    "    # get the maximum value in column\n",
    "    # check if it is less than or equal to the defined threshold\n",
    "    if df_plot[col].max() <= threshold:\n",
    "        # if true, drop the column\n",
    "        df_plot = df_plot.drop([col], axis=1)"
   ]
  },
  {
   "cell_type": "code",
   "execution_count": null,
   "id": "0d9cec1c",
   "metadata": {},
   "outputs": [],
   "source": [
    "df_plot.plot(kind=\"line\", figsize=(20,10))"
   ]
  },
  {
   "cell_type": "code",
   "execution_count": null,
   "id": "248c555d",
   "metadata": {},
   "outputs": [],
   "source": [
    "sns.set_theme()\n",
    "sns.lineplot(data=df_plot)\n"
   ]
  },
  {
   "cell_type": "code",
   "execution_count": null,
   "id": "1f85e849",
   "metadata": {},
   "outputs": [],
   "source": [
    "display(\n",
    "    df_plot.columns,\n",
    "    df_plot.index,\n",
    "    df_plot.head(30),"
   ]
  }
 ],
 "metadata": {
  "kernelspec": {
   "display_name": "Python 3 (ipykernel)",
   "language": "python",
   "name": "python3"
  },
  "language_info": {
   "codemirror_mode": {
    "name": "ipython",
    "version": 3
   },
   "file_extension": ".py",
   "mimetype": "text/x-python",
   "name": "python",
   "nbconvert_exporter": "python",
   "pygments_lexer": "ipython3",
   "version": "3.11.1"
  }
 },
 "nbformat": 4,
 "nbformat_minor": 5
}
