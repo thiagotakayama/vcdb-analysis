{
 "cells": [
  {
   "cell_type": "code",
   "execution_count": null,
   "id": "962c0c97-7683-4a22-957f-edff9451caad",
   "metadata": {},
   "outputs": [],
   "source": [
    "import json\n",
    "import pandas as pd\n",
    "import seaborn as sns\n",
    "from pathlib import Path\n",
    "\n",
    "dtypes = json.loads(Path(\"data/dtypes.json\").read_text())\n",
    "df = pd.read_csv(\"data/vcdb.csv\", dtype=dtypes)\n",
    "\n",
    "# Filter not confirmed incidents\n",
    "df.drop(df.loc[df['security_incident.Confirmed'] == False].index, inplace=True)\n",
    "# Filter old incidents\n",
    "since = 2009\n",
    "until = 2022\n",
    "df.drop(df.loc[df['timeline.incident.year'] < since].index, inplace=True)\n",
    "df.drop(df.loc[df['timeline.incident.year'] > until].index, inplace=True)\n",
    "print(df.shape)"
   ]
  },
  {
   "cell_type": "code",
   "execution_count": null,
   "id": "0d6dbcfc",
   "metadata": {},
   "outputs": [],
   "source": [
    "action_names = [x for x in list(df) if x.startswith(\"action.\") and len(x.split(\".\")) == 2]\n",
    "df_interesting = df[[\"timeline.incident.year\"] + action_names ]\n",
    "action_counts = []\n",
    "for action in action_names:\n",
    "    count = df_interesting[action].value_counts()[True] \n",
    "    action_counts.append(count)\n",
    "short_action_names = [x.split(\".\")[1] for x in action_names]\n",
    "results = pd.DataFrame(data=action_counts, index=short_action_names, columns=[\"count\"]).sort_values(by=\"count\", ascending=False)\n",
    "results.head(10)"
   ]
  },
  {
   "cell_type": "code",
   "execution_count": null,
   "id": "11f68a54",
   "metadata": {},
   "outputs": [],
   "source": [
    "\n",
    "sns.set_theme()\n",
    "plot = sns.barplot(data=results, x=results.index, y=\"count\")\n",
    "plot.set(\n",
    "    xlabel = \"Categories\", \n",
    "    ylabel = \"Events count\", \n",
    "    title = \"Category occurrence count\"\n",
    ")\n",
    "plot.set_xticks(plot.get_xticks()) \n",
    "plot.set_xticklabels(plot.get_xticklabels(), rotation=45)\n",
    "display(plot)"
   ]
  }
 ],
 "metadata": {
  "kernelspec": {
   "display_name": "Python 3 (ipykernel)",
   "language": "python",
   "name": "python3"
  },
  "language_info": {
   "codemirror_mode": {
    "name": "ipython",
    "version": 3
   },
   "file_extension": ".py",
   "mimetype": "text/x-python",
   "name": "python",
   "nbconvert_exporter": "python",
   "pygments_lexer": "ipython3",
   "version": "3.11.1"
  }
 },
 "nbformat": 4,
 "nbformat_minor": 5
}
