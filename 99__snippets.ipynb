{
 "cells": [
  {
   "cell_type": "markdown",
   "id": "46d77f28",
   "metadata": {},
   "source": [
    "We start by loading the dataset"
   ]
  },
  {
   "cell_type": "code",
   "execution_count": null,
   "id": "962c0c97-7683-4a22-957f-edff9451caad",
   "metadata": {},
   "outputs": [],
   "source": [
    "import json\n",
    "from pathlib import Path\n",
    "import pandas as pd\n",
    "import seaborn as sns\n",
    "import ipywidgets as widgets\n",
    "\n",
    "dtypes = json.loads(Path(\"data/dtypes.json\").read_text())\n",
    "df = pd.read_csv(\"data/vcdb.csv\", dtype=dtypes)"
   ]
  },
  {
   "cell_type": "code",
   "execution_count": null,
   "id": "7664613e",
   "metadata": {},
   "outputs": [],
   "source": [
    "df[\"plus.created\"]"
   ]
  },
  {
   "cell_type": "code",
   "execution_count": null,
   "id": "b840ac49",
   "metadata": {},
   "outputs": [],
   "source": [
    "df[\"created\"] = pd.to_datetime(df[\"plus.created\"],format='ISO8601')\n",
    "df.head()"
   ]
  },
  {
   "cell_type": "code",
   "execution_count": null,
   "id": "0d6dbcfc",
   "metadata": {},
   "outputs": [],
   "source": [
    "action_names = [x for x in list(df) if x.startswith(\"action.\") and len(x.split(\".\")) == 2]\n",
    "display(action_names)"
   ]
  },
  {
   "cell_type": "code",
   "execution_count": null,
   "id": "81f8544c",
   "metadata": {},
   "outputs": [],
   "source": [
    "df[action_names].head()"
   ]
  },
  {
   "cell_type": "code",
   "execution_count": null,
   "id": "542f20b2",
   "metadata": {},
   "outputs": [],
   "source": [
    "df[\"actions\"] = \"action.Malware\" + df[\"actions\"] if df[\"action.Malware\"] == True else df[\"actions\"]\n",
    "df.head()"
   ]
  },
  {
   "cell_type": "code",
   "execution_count": null,
   "id": "2c4af1d2",
   "metadata": {},
   "outputs": [],
   "source": []
  },
  {
   "cell_type": "code",
   "execution_count": null,
   "id": "975a5e89",
   "metadata": {},
   "outputs": [],
   "source": [
    "df[\"actions\"].value_counts()"
   ]
  },
  {
   "cell_type": "code",
   "execution_count": null,
   "id": "589c2bb0",
   "metadata": {},
   "outputs": [],
   "source": [
    "search_column_names = [x for x in list(df) if \"incident\" in x]\n",
    "for name in search_column_names:\n",
    "    print(name)"
   ]
  },
  {
   "cell_type": "code",
   "execution_count": null,
   "id": "12d1a861",
   "metadata": {},
   "outputs": [],
   "source": [
    "level2_names = [x for x in list(df) if len(x.split(\".\")) == 2]\n",
    "for name in level2_names:\n",
    "    print(name)"
   ]
  },
  {
   "cell_type": "code",
   "execution_count": null,
   "id": "febcbb30",
   "metadata": {},
   "outputs": [],
   "source": [
    "df_dbir = df[df[\"plus.dbir_year\"].notna()]\n",
    "df_dbir.shape"
   ]
  },
  {
   "cell_type": "code",
   "execution_count": null,
   "id": "cb53fe17",
   "metadata": {},
   "outputs": [],
   "source": [
    "df_dbir.head()"
   ]
  },
  {
   "cell_type": "code",
   "execution_count": null,
   "id": "6a2b65cd",
   "metadata": {},
   "outputs": [],
   "source": []
  },
  {
   "cell_type": "code",
   "execution_count": null,
   "id": "80016bb2",
   "metadata": {},
   "outputs": [],
   "source": []
  },
  {
   "cell_type": "code",
   "execution_count": null,
   "id": "47f42e5a",
   "metadata": {},
   "outputs": [],
   "source": [
    "attribute_names = [x for x in list(df_dbir) if x.startswith(\"attribute.\") and len(x.split(\".\")) == 2]\n",
    "display(attribute_names)"
   ]
  },
  {
   "cell_type": "code",
   "execution_count": null,
   "id": "11562f5f",
   "metadata": {},
   "outputs": [],
   "source": [
    "df_categories = df_dbir[attribute_names]\n",
    "df_categories.sum()"
   ]
  },
  {
   "cell_type": "code",
   "execution_count": null,
   "id": "b0d8d7a8",
   "metadata": {},
   "outputs": [],
   "source": [
    "df_confidentiality = df_dbir[df[\"attribute.Confidentiality\"]]\n",
    "df_confidentiality.shape"
   ]
  },
  {
   "cell_type": "code",
   "execution_count": null,
   "id": "2c5f9517",
   "metadata": {},
   "outputs": [],
   "source": [
    "df[\"timeline.incident.year\"].value_counts().sort_index().plot(kind=\"bar\")"
   ]
  },
  {
   "cell_type": "code",
   "execution_count": null,
   "id": "07da2398",
   "metadata": {},
   "outputs": [],
   "source": [
    "df_dbir[\"timeline.incident.year\"].value_counts().sort_index().plot(kind=\"bar\")\n"
   ]
  },
  {
   "cell_type": "code",
   "execution_count": null,
   "id": "83ba1d8e",
   "metadata": {},
   "outputs": [],
   "source": [
    "df_year_cia = df_dbir[\"timeline.incident.year\", \"\"]\n"
   ]
  },
  {
   "cell_type": "code",
   "execution_count": null,
   "id": "e7bbe7dd",
   "metadata": {},
   "outputs": [],
   "source": [
    "action_names = set([x for x in list(df) if x.startswith(\"action.\") and len(x.split(\".\")) == 2])\n",
    "display(action_names)"
   ]
  },
  {
   "cell_type": "code",
   "execution_count": null,
   "id": "29453e3b",
   "metadata": {},
   "outputs": [],
   "source": [
    "\n"
   ]
  },
  {
   "cell_type": "code",
   "execution_count": null,
   "id": "66a63bce",
   "metadata": {},
   "outputs": [],
   "source": [
    "df[\"category\"] = np.select(conditions, action_names)"
   ]
  },
  {
   "cell_type": "code",
   "execution_count": null,
   "id": "93c3a6eb",
   "metadata": {},
   "outputs": [],
   "source": [
    "for action in action_names:\n",
    "    display(df[f\"action.{action}\"].values.sum())"
   ]
  },
  {
   "cell_type": "code",
   "execution_count": null,
   "id": "df4bc1a9",
   "metadata": {},
   "outputs": [],
   "source": []
  },
  {
   "cell_type": "code",
   "execution_count": null,
   "id": "5a21c1e5",
   "metadata": {},
   "outputs": [],
   "source": [
    "actions = df.loc[:, df.columns.str.startswith('action.')]\n",
    "display(actions)\n",
    "count = actions.sum()\n",
    "display(count)\n",
    "# display(count[count > 30].sort_values().plot(kind=\"bar\"))"
   ]
  },
  {
   "cell_type": "code",
   "execution_count": null,
   "id": "b396a4f6",
   "metadata": {},
   "outputs": [],
   "source": [
    "action_hacking_index = df.loc[:, df.columns.str.startswith('action.hacking')].dropna().index.values.tolist()\n",
    "display(len(action_hacking_index))\n",
    "\n",
    "action_Hacking_index = df.loc[:, df.columns.str.startswith('action.Hacking')].dropna().index.values.tolist()\n",
    "display(len(action_Hacking_index))\n",
    "\n"
   ]
  },
  {
   "cell_type": "code",
   "execution_count": null,
   "id": "a9137b56",
   "metadata": {},
   "outputs": [],
   "source": []
  },
  {
   "cell_type": "code",
   "execution_count": null,
   "id": "815d5c50",
   "metadata": {},
   "outputs": [],
   "source": [
    "countries = df.loc[:, df.columns.str.startswith('victim.country')]\n",
    "display(countries)\n",
    "count = countries.sum()\n",
    "display(count)\n",
    "display(count[count > 30].sort_values().plot(kind=\"bar\"))"
   ]
  },
  {
   "cell_type": "code",
   "execution_count": null,
   "id": "254f891f",
   "metadata": {},
   "outputs": [],
   "source": [
    "sns.barplot(count[count > 30].sort_values(), )"
   ]
  },
  {
   "cell_type": "code",
   "execution_count": null,
   "id": "8216dc76",
   "metadata": {},
   "outputs": [],
   "source": [
    "countries.apply(pd.Series.value_counts).plot(kind = 'b"
   ]
  },
  {
   "cell_type": "code",
   "execution_count": null,
   "id": "519fcde8",
   "metadata": {},
   "outputs": [],
   "source": []
  },
  {
   "cell_type": "code",
   "execution_count": null,
   "id": "7d0e9cc2",
   "metadata": {},
   "outputs": [],
   "source": [
    "env_variety = df.loc[:, df.columns.str.startswith('action.environmental.variety')]"
   ]
  },
  {
   "cell_type": "code",
   "execution_count": null,
   "id": "c6da3ded-3804-4ffb-a954-89943f2062d7",
   "metadata": {},
   "outputs": [],
   "source": [
    "# Frequency distribution for the categorical variables\n",
    "frequency_discrete = df['Discrete_Variable'].value_counts()\n",
    "frequency_nominal = df['Nominal_Variable'].value_counts()\n",
    "frequency_ordinal = df['Ordinal_Variable'].value_counts()\n",
    "# Plotting the frequency distribution as bar charts\n",
    "plt.figure(figsize=(12, 8))\n",
    "plt.subplot(2, 2, 1)\n",
    "frequency_discrete.plot(kind='bar', title='Discrete Variable')\n",
    "plt.xlabel('Categories')\n",
    "plt.ylabel('Frequency')\n",
    "plt.subplot(2, 2, 2)\n",
    "frequency_nominal.plot(kind='bar', title='Nominal Variable')\n",
    "plt.xlabel('Categories')\n",
    "plt.ylabel('Frequency')\n",
    "plt.subplot(2, 2, 3)\n",
    "frequency_ordinal.plot(kind='bar', title='Ordinal Variable')\n",
    "plt.xlabel('Categories')\n",
    "plt.ylabel('Frequency')\n",
    "plt.tight_layout()\n",
    "plt.show()\n",
    "# Plotting the frequency distribution as pie charts\n",
    "plt.figure(figsize=(12, 8))\n",
    "plt.subplot(2, 2, 1)\n",
    "frequency_discrete.plot(kind='pie', title='Discrete Variable', autopct='%1.1f%%')\n",
    "plt.subplot(2, 2, 2)\n",
    "frequency_nominal.plot(kind='pie', title='Nominal Variable', autopct='%1.1f%%')\n",
    "plt.subplot(2, 2, 3)\n",
    "frequency_ordinal.plot(kind='pie', title='Ordinal Variable', autopct='%1.1f%%')\n",
    "plt.tight_layout()\n",
    "plt.show()\n",
    "# Plotting the line chart for continuous variables\n",
    "plt.figure(figsize=(10, 6))\n",
    "plt.plot(df['Continuous_Variable'], label='Continuous Variable')\n",
    "plt.title('Line Chart of Continuous Variable')\n",
    "plt.xlabel('Index')\n",
    "plt.ylabel('Value')\n",
    "plt.legend()\n",
    "plt.show()\n",
    "# Plotting the horizontal bar chart\n",
    "plt.figure(figsize=(12, 8))\n",
    "plt.subplot(3, 1, 1)\n",
    "frequency_discrete.plot(kind='barh', title='Discrete Variable')\n",
    "\n",
    "plt.xlabel('Frequency')\n",
    "plt.ylabel('Categories')\n",
    "plt.subplot(3, 1, 2)\n",
    "frequency_nominal.plot(kind='barh', title='Nominal Variable')\n",
    "plt.xlabel('Frequency')\n",
    "plt.ylabel('Categories')\n",
    "plt.subplot(3, 1, 3)\n",
    "frequency_ordinal.plot(kind='barh', title='Ordinal Variable')\n",
    "plt.xlabel('Frequency')\n",
    "plt.ylabel('Categories')\n",
    "plt.tight_layout()\n",
    "plt.show()"
   ]
  }
 ],
 "metadata": {
  "kernelspec": {
   "display_name": "Python 3 (ipykernel)",
   "language": "python",
   "name": "python3"
  },
  "language_info": {
   "codemirror_mode": {
    "name": "ipython",
    "version": 3
   },
   "file_extension": ".py",
   "mimetype": "text/x-python",
   "name": "python",
   "nbconvert_exporter": "python",
   "pygments_lexer": "ipython3",
   "version": "3.11.1"
  }
 },
 "nbformat": 4,
 "nbformat_minor": 5
}
