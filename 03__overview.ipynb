{
 "cells": [
  {
   "cell_type": "markdown",
   "id": "73ad4fee",
   "metadata": {},
   "source": [
    "## Dataset overview"
   ]
  },
  {
   "cell_type": "code",
   "execution_count": null,
   "id": "962c0c97-7683-4a22-957f-edff9451caad",
   "metadata": {},
   "outputs": [],
   "source": [
    "import json\n",
    "import pandas as pd\n",
    "import seaborn as sns\n",
    "from pathlib import Path\n",
    "\n",
    "dtypes = json.loads(Path(\"data/dtypes.json\").read_text())\n",
    "df = pd.read_csv(\"data/vcdb.csv\", dtype=dtypes)\n",
    "display(df.shape)\n",
    "\n",
    "# Histogram to identify outliers\n",
    "plot = sns.histplot(data=df, x=\"timeline.incident.year\", discrete=True)\n",
    "plot.set(\n",
    "    xlabel = \"Year\", \n",
    "    ylabel = \"Events count ($\\\\log_{10}$)\", \n",
    "    title = \"Event distribution over Years (Log Scale)\",\n",
    ")\n",
    "plot.set_yscale(\"log\")\n",
    "ticks = [1,10,100,1000]\n",
    "plot.set_yticks(ticks)\n",
    "plot.set_yticklabels(ticks)\n",
    "display(plot)\n"
   ]
  }
 ],
 "metadata": {
  "kernelspec": {
   "display_name": "Python 3 (ipykernel)",
   "language": "python",
   "name": "python3"
  },
  "language_info": {
   "codemirror_mode": {
    "name": "ipython",
    "version": 3
   },
   "file_extension": ".py",
   "mimetype": "text/x-python",
   "name": "python",
   "nbconvert_exporter": "python",
   "pygments_lexer": "ipython3",
   "version": "3.11.1"
  }
 },
 "nbformat": 4,
 "nbformat_minor": 5
}
