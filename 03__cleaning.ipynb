{
 "cells": [
  {
   "cell_type": "code",
   "execution_count": null,
   "id": "962c0c97-7683-4a22-957f-edff9451caad",
   "metadata": {},
   "outputs": [],
   "source": [
    "import json\n",
    "import pandas as pd\n",
    "import seaborn as sns\n",
    "from pathlib import Path\n",
    "\n",
    "dtypes = json.loads(Path(\"data/dtypes.json\").read_text())\n",
    "df = pd.read_csv(\"data/vcdb.csv\", dtype=dtypes)\n",
    "old_shape = df.shape\n",
    "df.dropna(axis=\"columns\", inplace=True)\n",
    "new_shape = df.shape\n",
    "print(f\"Original Shape:\\t{old_shape}\\nNew Shape:\\t{new_shape}\")\n"
   ]
  },
  {
   "cell_type": "code",
   "execution_count": null,
   "id": "11f68a54",
   "metadata": {},
   "outputs": [],
   "source": [
    "sns.set_theme(rc = {'figure.figsize':(20, 8)})\n",
    "plot = sns.countplot(data=df, x=\"timeline.incident.year\")\n",
    "plot.set(\n",
    "    xlabel = \"Year\", \n",
    "    ylabel = \"Events count\", \n",
    "    title = \"Yearly event count\",\n",
    ")\n",
    "plot.set_xticks(plot.get_xticks()) \n",
    "plot.set_xticklabels(plot.get_xticklabels(), rotation=45)\n",
    "display(plot)"
   ]
  }
 ],
 "metadata": {
  "kernelspec": {
   "display_name": "Python 3 (ipykernel)",
   "language": "python",
   "name": "python3"
  },
  "language_info": {
   "codemirror_mode": {
    "name": "ipython",
    "version": 3
   },
   "file_extension": ".py",
   "mimetype": "text/x-python",
   "name": "python",
   "nbconvert_exporter": "python",
   "pygments_lexer": "ipython3",
   "version": "3.11.1"
  }
 },
 "nbformat": 4,
 "nbformat_minor": 5
}
