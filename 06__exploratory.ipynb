{
 "cells": [
  {
   "cell_type": "markdown",
   "id": "250278b3",
   "metadata": {},
   "source": [
    "## Descriptive Statistics "
   ]
  },
  {
   "cell_type": "code",
   "execution_count": null,
   "id": "962c0c97-7683-4a22-957f-edff9451caad",
   "metadata": {},
   "outputs": [],
   "source": [
    "import matplotlib.pyplot as plt\n",
    "import seaborn as sns\n",
    "from transformation import get_transformed_dataset\n",
    "\n",
    "df = get_transformed_dataset()"
   ]
  },
  {
   "cell_type": "markdown",
   "id": "cb8822af",
   "metadata": {},
   "source": [
    "#### Year"
   ]
  },
  {
   "cell_type": "code",
   "execution_count": null,
   "id": "10d1d727",
   "metadata": {},
   "outputs": [],
   "source": [
    "# Plot\n",
    "plot = sns.countplot(data=df, x=\"timeline.incident.year\")\n",
    "plot.bar_label(plot.containers[0])\n",
    "plot.set(\n",
    "    xlabel = \"Year\", \n",
    "    ylabel = \"Reported security incidents\", \n",
    "    title = \"Reported security incidents per year\",\n",
    ")\n",
    "display(plot)\n"
   ]
  },
  {
   "cell_type": "markdown",
   "id": "607127ac",
   "metadata": {},
   "source": [
    "#### Industry"
   ]
  },
  {
   "cell_type": "code",
   "execution_count": null,
   "id": "39eeba72",
   "metadata": {},
   "outputs": [],
   "source": [
    "# Calculate the frequency distribution of industry names\n",
    "frequency_distribution = df[\"victim.industry.name\"].value_counts().reset_index()\n",
    "frequency_distribution.columns = [\"Industry\", \"count\"]\n",
    "\n",
    "# Plot\n",
    "plot = sns.barplot(x=\"count\", y=\"Industry\", data=frequency_distribution)\n",
    "plot.set(\n",
    "    xlabel = \"Count\", \n",
    "    ylabel = \"Industry Name\", \n",
    "    title = \"Frequency Distribution of Industry\",\n",
    ")\n",
    "\n",
    "plt.show()"
   ]
  },
  {
   "cell_type": "markdown",
   "id": "2bb2d0cc",
   "metadata": {},
   "source": [
    "#### Threat Action"
   ]
  },
  {
   "cell_type": "code",
   "execution_count": null,
   "id": "71a7399f",
   "metadata": {},
   "outputs": [],
   "source": [
    "# Calculate the frequency distribution of actions for the combined values\n",
    "frequency_distribution = df[\"Actions\"].value_counts().reset_index()\n",
    "frequency_distribution.columns = [\"Actions\", \"count\"]\n",
    "\n",
    "# Plot\n",
    "plot = sns.barplot(x=\"count\", y=\"Actions\", data=frequency_distribution.head(10))\n",
    "plot.set(\n",
    "    xlabel = \"Count\", \n",
    "    ylabel = \"Threat Action (Top 10)\", \n",
    "    title = \"Top 10 Threat Actions by Frequency\",\n",
    ")\n",
    "\n",
    "plt.show()"
   ]
  },
  {
   "cell_type": "markdown",
   "id": "e7192246",
   "metadata": {},
   "source": [
    "### Victim Country"
   ]
  },
  {
   "cell_type": "code",
   "execution_count": null,
   "id": "23ba25ab",
   "metadata": {},
   "outputs": [],
   "source": [
    "# Calculate the frequency distribution of actions for the combined values\n",
    "frequency_distribution = df[\"Countries\"].value_counts().reset_index()\n",
    "frequency_distribution.columns = [\"Countries\", \"count\"]\n",
    "\n",
    "# Plot\n",
    "plot = sns.barplot(x=\"count\", y=\"Countries\", data=frequency_distribution.head(10))\n",
    "plot.set(\n",
    "    xlabel = \"Count\", \n",
    "    ylabel = \"Impacted Country\", \n",
    "    title = \"Top 10 Countries by Frequency\",\n",
    ")\n",
    "\n",
    "plt.show()\n",
    "\n"
   ]
  }
 ],
 "metadata": {
  "kernelspec": {
   "display_name": "Python 3 (ipykernel)",
   "language": "python",
   "name": "python3"
  },
  "language_info": {
   "codemirror_mode": {
    "name": "ipython",
    "version": 3
   },
   "file_extension": ".py",
   "mimetype": "text/x-python",
   "name": "python",
   "nbconvert_exporter": "python",
   "pygments_lexer": "ipython3",
   "version": "3.11.1"
  }
 },
 "nbformat": 4,
 "nbformat_minor": 5
}
