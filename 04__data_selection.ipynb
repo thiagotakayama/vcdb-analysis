{
 "cells": [
  {
   "cell_type": "code",
   "execution_count": null,
   "id": "962c0c97-7683-4a22-957f-edff9451caad",
   "metadata": {},
   "outputs": [],
   "source": [
    "import json\n",
    "import pandas as pd\n",
    "import seaborn as sns\n",
    "from pathlib import Path\n",
    "\n",
    "dtypes = json.loads(Path(\"data/dtypes.json\").read_text())\n",
    "df = pd.read_csv(\"data/vcdb.csv\", dtype=dtypes)\n",
    "print(df.shape)\n",
    "# Filter data breach confirmed\n",
    "df.drop(df.loc[df['attribute.confidentiality.data_disclosure.Yes'] == False].index, inplace=True)\n",
    "print(df.shape)\n",
    "# Filter not confirmed incidents\n",
    "df.drop(df.loc[df['security_incident.Confirmed'] == False].index, inplace=True)\n",
    "print(df.shape)\n",
    "\n",
    "# Filter old incidents\n",
    "since = 0000\n",
    "until = 2024\n",
    "df.drop(df.loc[df['timeline.incident.year'] < since].index, inplace=True)\n",
    "df.drop(df.loc[df['timeline.incident.year'] > until].index, inplace=True)\n",
    "print(df.shape)"
   ]
  },
  {
   "cell_type": "code",
   "execution_count": null,
   "id": "11f68a54",
   "metadata": {},
   "outputs": [],
   "source": [
    "sns.set_theme(rc = {'figure.figsize':(20, 8)})\n",
    "plot = sns.countplot(data=df, x=\"timeline.incident.year\")\n",
    "plot.set(\n",
    "    xlabel = \"Year\", \n",
    "    ylabel = \"Events count\", \n",
    "    title = \"Yearly event count\",\n",
    ")\n",
    "plot.set_xticks(plot.get_xticks()) \n",
    "plot.set_xticklabels(plot.get_xticklabels(), rotation=45)\n",
    "display(plot)"
   ]
  }
 ],
 "metadata": {
  "kernelspec": {
   "display_name": "Python 3 (ipykernel)",
   "language": "python",
   "name": "python3"
  },
  "language_info": {
   "codemirror_mode": {
    "name": "ipython",
    "version": 3
   },
   "file_extension": ".py",
   "mimetype": "text/x-python",
   "name": "python",
   "nbconvert_exporter": "python",
   "pygments_lexer": "ipython3",
   "version": "3.11.1"
  }
 },
 "nbformat": 4,
 "nbformat_minor": 5
}
