{
 "cells": [
  {
   "cell_type": "markdown",
   "id": "73ad4fee",
   "metadata": {},
   "source": [
    "## Dataset overview"
   ]
  },
  {
   "cell_type": "code",
   "execution_count": null,
   "id": "962c0c97-7683-4a22-957f-edff9451caad",
   "metadata": {},
   "outputs": [],
   "source": [
    "import json\n",
    "import pandas as pd\n",
    "import seaborn as sns\n",
    "from pathlib import Path\n",
    "\n",
    "dtypes = json.loads(Path(\"data/dtypes.json\").read_text())\n",
    "df = pd.read_csv(\"data/vcdb.csv\", dtype=dtypes)\n",
    "print(df.isnull().any().value_counts())\n"
   ]
  },
  {
   "cell_type": "markdown",
   "id": "34bf1f00",
   "metadata": {},
   "source": [
    "### Missing Data"
   ]
  },
  {
   "cell_type": "code",
   "execution_count": null,
   "id": "46c381a0",
   "metadata": {},
   "outputs": [],
   "source": [
    "df_clean = df.dropna(axis=\"columns\")\n",
    "df_clean.head(10)\n",
    "print(df_clean.isnull().any().value_counts())"
   ]
  },
  {
   "cell_type": "markdown",
   "id": "6cbe4af5",
   "metadata": {},
   "source": [
    "### Event Counts"
   ]
  },
  {
   "cell_type": "code",
   "execution_count": null,
   "id": "3fbffc53",
   "metadata": {},
   "outputs": [],
   "source": [
    "sns.set_theme(rc = {'figure.figsize':(16, 6)})\n",
    "plot = sns.countplot(data=df, x=\"timeline.incident.year\")\n",
    "plot.set(\n",
    "    xlabel = \"Year\", \n",
    "    ylabel = \"Events count\", \n",
    "    title = \"Yearly event count\",\n",
    ")\n",
    "plot.set_xticks(plot.get_xticks()) \n",
    "plot.set_xticklabels(plot.get_xticklabels(), rotation=45)\n",
    "display(plot)\n"
   ]
  },
  {
   "cell_type": "code",
   "execution_count": null,
   "id": "28be4bb2",
   "metadata": {},
   "outputs": [],
   "source": [
    "action_names = [x for x in list(df) if x.startswith(\"action.\") and len(x.split(\".\")) == 2]\n",
    "df_interesting = df[[\"timeline.incident.year\"] + action_names ]\n",
    "action_counts = []\n",
    "for action in action_names:\n",
    "    count = df_interesting[action].value_counts()[True] \n",
    "    action_counts.append(count)\n",
    "short_action_names = [x.split(\".\")[1] for x in action_names]\n",
    "results = pd.DataFrame(data=action_counts, index=short_action_names, columns=[\"count\"]).sort_values(by=\"count\", ascending=False)\n",
    "\n",
    "sns.set_theme(rc = {'figure.figsize':(8, 6)})\n",
    "plot = sns.barplot(data=results, x=results.index, y=\"count\")\n",
    "plot.set(\n",
    "    xlabel = \"Categories\", \n",
    "    ylabel = \"Events count\", \n",
    "    title = \"Category occurrence count\"\n",
    ")\n",
    "plot.set_xticks(plot.get_xticks()) \n",
    "plot.set_xticklabels(plot.get_xticklabels(), rotation=45)\n",
    "display(plot)"
   ]
  },
  {
   "cell_type": "code",
   "execution_count": null,
   "id": "8d00d27c",
   "metadata": {},
   "outputs": [],
   "source": [
    "# TODO: Add industry"
   ]
  }
 ],
 "metadata": {
  "kernelspec": {
   "display_name": "Python 3 (ipykernel)",
   "language": "python",
   "name": "python3"
  },
  "language_info": {
   "codemirror_mode": {
    "name": "ipython",
    "version": 3
   },
   "file_extension": ".py",
   "mimetype": "text/x-python",
   "name": "python",
   "nbconvert_exporter": "python",
   "pygments_lexer": "ipython3",
   "version": "3.11.1"
  }
 },
 "nbformat": 4,
 "nbformat_minor": 5
}
