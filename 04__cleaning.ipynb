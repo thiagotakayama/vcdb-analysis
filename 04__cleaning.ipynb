{
 "cells": [
  {
   "cell_type": "markdown",
   "id": "408963ca",
   "metadata": {},
   "source": [
    "## Anomalies and filtering"
   ]
  },
  {
   "cell_type": "code",
   "execution_count": null,
   "id": "962c0c97-7683-4a22-957f-edff9451caad",
   "metadata": {},
   "outputs": [],
   "source": [
    "import json\n",
    "import pandas as pd\n",
    "import seaborn as sns\n",
    "from pathlib import Path\n",
    "from collections import namedtuple\n",
    "\n",
    "Stat = namedtuple(\"Stat\", [\"label\", \"value\"])\n",
    "stats = []\n",
    "dtypes = json.loads(Path(\"data/dtypes.json\").read_text())\n",
    "df = pd.read_csv(\"data/vcdb.csv\", dtype=dtypes)\n",
    "stats.append(Stat(\"Original Dataset Shape\", df.shape))\n",
    "\n",
    "# Remove columns with only empty values\n",
    "df.dropna(axis=\"columns\", how=\"all\", inplace=True)\n",
    "stats.append(Stat(\"Removed Columns Shape\", df.shape))\n",
    "\n",
    "# Filter old incidents\n",
    "since = 2013\n",
    "until = 2024\n",
    "df.drop(df.loc[df[\"timeline.incident.year\"] < since].index, inplace=True)\n",
    "df.drop(df.loc[df[\"timeline.incident.year\"] > until].index, inplace=True)\n",
    "stats.append(Stat(\"Ten Years Shape\", df.shape))\n",
    "\n",
    "for stat in stats:\n",
    "    print(f\"{stat.label}:\\t\\t\\t {stat.value}\")\n"
   ]
  },
  {
   "cell_type": "code",
   "execution_count": null,
   "id": "e5735227",
   "metadata": {},
   "outputs": [],
   "source": [
    "# Plot y in log after date filter\n",
    "plot = sns.histplot(data=df, x=\"timeline.incident.year\", discrete=True)\n",
    "plot.set(\n",
    "    xlabel = \"Year\", \n",
    "    ylabel = \"Events count ($\\\\log_{10}$)\", \n",
    "    title = \"Year distribution last ten years\",\n",
    ")\n",
    "plot.set_xlim(2012, 2024)\n",
    "xticks = list(range(2013, 2024))\n",
    "plot.set_xticks(xticks)\n",
    "plot.set_xticklabels(xticks)\n",
    "plot.set_yscale(\"log\")\n",
    "yticks = [1,10,100,1000]\n",
    "plot.set_yticks(yticks)\n",
    "plot.set_yticklabels(yticks)\n",
    "plot.margins(x=0.05)\n",
    "display(plot)"
   ]
  },
  {
   "cell_type": "code",
   "execution_count": null,
   "id": "0f7adf5a",
   "metadata": {},
   "outputs": [],
   "source": [
    "# Filter not confirmed incidents\n",
    "df.drop(df.loc[df[\"security_incident.Confirmed\"] == False].index, inplace=True)\n",
    "stats.append(Stat(\"Only Confirmed Shape\", df.shape))\n",
    "\n",
    "# Filter only incidents where a data disclosure was confirmed\n",
    "df.drop(df.loc[df[\"attribute.confidentiality.data_disclosure.Yes\"] == False].index, inplace=True)\n",
    "stats.append(Stat(\"Only Disclosure Shape\", df.shape))\n",
    "\n",
    "for stat in stats:\n",
    "    print(f\"{stat.label}\\t\\t\\t & {stat.value[0]} & {stat.value[1]} \\\\\\\\\")\n"
   ]
  }
 ],
 "metadata": {
  "kernelspec": {
   "display_name": "Python 3 (ipykernel)",
   "language": "python",
   "name": "python3"
  },
  "language_info": {
   "codemirror_mode": {
    "name": "ipython",
    "version": 3
   },
   "file_extension": ".py",
   "mimetype": "text/x-python",
   "name": "python",
   "nbconvert_exporter": "python",
   "pygments_lexer": "ipython3",
   "version": "3.11.1"
  }
 },
 "nbformat": 4,
 "nbformat_minor": 5
}
