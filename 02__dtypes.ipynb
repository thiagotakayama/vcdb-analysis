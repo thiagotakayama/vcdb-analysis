{
 "cells": [
  {
   "cell_type": "markdown",
   "metadata": {},
   "source": [
    "## Generate dtypes.json to facilitate CSV load"
   ]
  },
  {
   "cell_type": "code",
   "execution_count": null,
   "metadata": {},
   "outputs": [],
   "source": [
    "import json\n",
    "import pandas as pd\n",
    "from pathlib import Path\n",
    "\n",
    "# Loading the file with no dtypes raises a warning\n",
    "df = pd.read_csv(\"data/vcdb.csv\")\n",
    "\n",
    "dtypes = {}\n",
    "postfix = (\"notes\", \".name\", \".cve\", \".region\")\n",
    "full_names = [\n",
    "    \"plus.analyst_notes\",\n",
    "    \"plus.github\",\n",
    "    \"plus.investigator\",\n",
    "    \"campaign_id\",\n",
    "    \"control_failure\",\n",
    "    \"attribute.unknown.result\", \n",
    "    \"timeline.incident.time\",\n",
    "    \"victim.industry\", \n",
    "    \"victim.industry3\"\n",
    "]\n",
    "\n",
    "for column in df:\n",
    "    if column.endswith(postfix) or column in full_names:\n",
    "            dtypes[column] = \"object\"\n",
    "\n",
    "# Loading with dtypes resolves the warnings\n",
    "df = pd.read_csv(\"data/vcdb.csv\", dtype=dtypes)\n",
    "dtypes_file = Path(\"data/dtypes.json\")\n",
    "dtypes_file.write_text(json.dumps(dtypes, indent=4))\n",
    "msg = f\"File '{dtypes_file.name}' created in '{dtypes_file.parent}'\"\n",
    "display(msg)\n"
   ]
  }
 ],
 "metadata": {
  "kernelspec": {
   "display_name": "jupyter",
   "language": "python",
   "name": "python3"
  },
  "language_info": {
   "codemirror_mode": {
    "name": "ipython",
    "version": 3
   },
   "file_extension": ".py",
   "mimetype": "text/x-python",
   "name": "python",
   "nbconvert_exporter": "python",
   "pygments_lexer": "ipython3",
   "version": "3.11.1"
  }
 },
 "nbformat": 4,
 "nbformat_minor": 2
}
