{
 "cells": [
  {
   "cell_type": "code",
   "execution_count": null,
   "id": "962c0c97-7683-4a22-957f-edff9451caad",
   "metadata": {},
   "outputs": [],
   "source": [
    "import pandas as pd\n",
    "import matplotlib.pyplot as plt\n",
    "import seaborn as sns\n",
    "import ipywidgets as widgets\n",
    "from IPython.display import clear_output\n",
    "from transformation import get_transformed_dataset\n",
    "\n",
    "# Transformation file available in:\n",
    "# https://github.com/thiagotakayama/vcdb-analysis/blob/master/transformation.py\n",
    "\n",
    "df = get_transformed_dataset()\n",
    "\n",
    "def on_change(change):\n",
    "    if change['type'] == 'change' and change['name'] == 'value':\n",
    "        action_counts = df.groupby(metric.value).size().sort_values(ascending=False)\n",
    "        valid_actions = action_counts[action_counts >= 100].index\n",
    "        df1 = df[df[metric.value].isin(valid_actions)]\n",
    "        columns = [\"timeline.incident.year\", metric.value ]\n",
    "        df1 = pd.DataFrame(df1, columns=columns)\n",
    "        df1 = (df1.groupby([\"timeline.incident.year\"]).value_counts(normalize=True)*100).rename(\"proportion\").reset_index()\n",
    "        plot = sns.lineplot(df1, x=\"timeline.incident.year\", y=\"proportion\", hue=metric.value)\n",
    "        clear_output()\n",
    "        display(metric, plot)\n",
    "\n",
    "metric = widgets.Dropdown(\n",
    "    options=[\"--choose--\",'Vectors', 'Actions'],\n",
    "    description='Metric:',\n",
    "    disabled=False,\n",
    ")\n",
    "\n",
    "metric.observe(on_change)\n",
    "display(metric)"
   ]
  }
 ],
 "metadata": {
  "kernelspec": {
   "display_name": "Python 3 (ipykernel)",
   "language": "python",
   "name": "python3"
  },
  "language_info": {
   "codemirror_mode": {
    "name": "ipython",
    "version": 3
   },
   "file_extension": ".py",
   "mimetype": "text/x-python",
   "name": "python",
   "nbconvert_exporter": "python",
   "pygments_lexer": "ipython3",
   "version": "3.11.1"
  }
 },
 "nbformat": 4,
 "nbformat_minor": 5
}
