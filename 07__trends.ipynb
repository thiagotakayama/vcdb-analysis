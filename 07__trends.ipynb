{
 "cells": [
  {
   "cell_type": "code",
   "execution_count": null,
   "id": "962c0c97-7683-4a22-957f-edff9451caad",
   "metadata": {},
   "outputs": [],
   "source": [
    "import pandas as pd\n",
    "import matplotlib as mpl\n",
    "import matplotlib.pyplot as plt\n",
    "import seaborn as sns\n",
    "import ipywidgets as widgets\n",
    "from IPython.display import clear_output\n",
    "from transformation import get_transformed_dataset\n",
    "\n",
    "# Transformation file available in:\n",
    "# https://github.com/thiagotakayama/vcdb-analysis/blob/master/transformation.py\n",
    "\n",
    "df = get_transformed_dataset()\n",
    "\n",
    "def on_change(change):\n",
    "    if change['type'] == 'change' and change['name'] == 'value':\n",
    "        action_counts = df.groupby(metric.value).size().sort_values(ascending=False)\n",
    "        valid_actions = action_counts[action_counts >= 100].index\n",
    "        df1 = df[df[metric.value].isin(valid_actions)]\n",
    "        columns = [\"timeline.incident.year\", metric.value ]\n",
    "        df1 = pd.DataFrame(df1, columns=columns)\n",
    "        df1 = (df1.groupby([\"timeline.incident.year\"]).value_counts(normalize=True)*100).rename(\"proportion\").reset_index()\n",
    "        plot = sns.lineplot(df1, x=\"timeline.incident.year\", y=\"proportion\", hue=metric.value)\n",
    "        clear_output()\n",
    "        display(metric, plot)\n",
    "\n",
    "metric = widgets.Dropdown(\n",
    "    options=[\"--choose--\",'Vectors', 'Actions'],\n",
    "    description='Metric:',\n",
    "    disabled=False,\n",
    ")\n",
    "\n",
    "metric.observe(on_change)\n",
    "display(metric)"
   ]
  },
  {
   "cell_type": "code",
   "execution_count": null,
   "id": "0364e6cb",
   "metadata": {},
   "outputs": [],
   "source": [
    "action_counts = df.groupby(\"Actions\").size().sort_values(ascending=False)\n",
    "valid_actions = action_counts[action_counts >= 100].index\n",
    "df1 = df[df[\"Actions\"].isin(valid_actions)]\n",
    "columns = [\"timeline.incident.year\", \"Actions\" ]\n",
    "df1 = pd.DataFrame(df1, columns=columns)\n",
    "df1 = (df1.groupby([\"timeline.incident.year\"]).value_counts(normalize=True)*100).rename(\"proportion\").reset_index()\n",
    "plot = sns.lineplot(df1, x=\"timeline.incident.year\", y=\"proportion\", hue=\"Actions\")\n",
    "plot.set(\n",
    "xlabel = \"Count\", \n",
    "ylabel = \"Vector combination (Top 10)\", \n",
    "title = \"Top 10 Vector combinations by Frequency\",\n",
    ")\n",
    "mpl.rcParams[\"figure.figsize\"] = 25,8.27\n",
    "plot.set_xlim(2013, 2022)\n",
    "xticks = list(range(2013, 2022))\n",
    "plot.set_xticks(xticks)\n",
    "plot.set_xticklabels(xticks)\n",
    "plot.set_ylim(0, 100)\n",
    "yticks = [0,20,40,60,80,100]\n",
    "plot.set_yticks(yticks)\n",
    "plot.set_yticklabels([f\"{str(x)}%\" for x in yticks])\n",
    "# plot.margins(x=0.05)\n",
    "display(plot)"
   ]
  }
 ],
 "metadata": {
  "kernelspec": {
   "display_name": "Python 3 (ipykernel)",
   "language": "python",
   "name": "python3"
  },
  "language_info": {
   "codemirror_mode": {
    "name": "ipython",
    "version": 3
   },
   "file_extension": ".py",
   "mimetype": "text/x-python",
   "name": "python",
   "nbconvert_exporter": "python",
   "pygments_lexer": "ipython3",
   "version": "3.11.1"
  }
 },
 "nbformat": 4,
 "nbformat_minor": 5
}
