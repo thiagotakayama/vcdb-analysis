{
 "cells": [
  {
   "cell_type": "markdown",
   "metadata": {},
   "source": [
    "## Load incident data from VERIS github"
   ]
  },
  {
   "cell_type": "code",
   "execution_count": null,
   "metadata": {},
   "outputs": [],
   "source": [
    "import io\n",
    "import requests \n",
    "import shutil\n",
    "import zipfile\n",
    "from pathlib import Path\n",
    "\n",
    "# Get raw ZIP file\n",
    "url = \"https://github.com/vz-risk/VCDB/raw/master/data/csv/vcdb.csv.zip\"\n",
    "r = requests.get(url, stream=True)\n",
    "\n",
    "# Unzip CSV file\n",
    "z = zipfile.ZipFile(io.BytesIO(r.content))\n",
    "vcdb = Path(z.extract(\"data/dbir/VCDB/data/csv/vcdb.csv\"))\n",
    "\n",
    "# Move file to data folder and delete temporary folder\n",
    "parent = Path(\"data/dbir\")\n",
    "vcdb.rename(\"data/vcdb.csv\")\n",
    "vcdb_csv = Path(\"data/vcdb.csv\")\n",
    "shutil.rmtree(parent)\n",
    "\n",
    "msg = f\"File '{vcdb_csv.name}' created in '{vcdb_csv.parent}'\"\n",
    "display(msg)"
   ]
  }
 ],
 "metadata": {
  "kernelspec": {
   "display_name": "jupyter",
   "language": "python",
   "name": "python3"
  },
  "language_info": {
   "codemirror_mode": {
    "name": "ipython",
    "version": 3
   },
   "file_extension": ".py",
   "mimetype": "text/x-python",
   "name": "python",
   "nbconvert_exporter": "python",
   "pygments_lexer": "ipython3",
   "version": "3.11.1"
  }
 },
 "nbformat": 4,
 "nbformat_minor": 2
}
