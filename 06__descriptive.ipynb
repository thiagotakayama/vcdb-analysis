{
 "cells": [
  {
   "cell_type": "markdown",
   "id": "250278b3",
   "metadata": {},
   "source": [
    "## Descriptive Statistics "
   ]
  },
  {
   "cell_type": "code",
   "execution_count": null,
   "id": "962c0c97-7683-4a22-957f-edff9451caad",
   "metadata": {},
   "outputs": [],
   "source": [
    "import json\n",
    "import pandas as pd\n",
    "import seaborn as sns\n",
    "import matplotlib.pyplot as plt\n",
    "from pathlib import Path\n",
    "from helper import add_units_dates, concatenate_actions\n",
    "\n",
    "dtypes = json.loads(Path(\"data/dtypes.json\").read_text())\n",
    "df = pd.read_csv(\"data/vcdb.csv\", dtype=dtypes)\n",
    "\n",
    "# Remove columns with only empty values\n",
    "df.dropna(axis=\"columns\", how=\"all\", inplace=True)\n",
    "\n",
    "# Filter old incidents\n",
    "since = 2013\n",
    "until = 2024\n",
    "df.drop(df.loc[df[\"timeline.incident.year\"] < since].index, inplace=True)\n",
    "df.drop(df.loc[df[\"timeline.incident.year\"] > until].index, inplace=True)\n",
    "\n",
    "# Add column with incident date\n",
    "df[\"timeline.incident.date\"] = pd.to_datetime(\n",
    "    df.rename(columns={\n",
    "        \"timeline.incident.year\": \"year\", \n",
    "        \"timeline.incident.month\": \"month\", \n",
    "        \"timeline.incident.day\": \"day\"}\n",
    "        )\n",
    "        [[\"year\", \"month\", \"day\"]], errors=\"coerce\")\n",
    "\n",
    "# Add columns for milestones dates \n",
    "stages = [\"discovery\", \"compromise\", \"exfiltration\", \"containment\" ]\n",
    "for stage in stages:\n",
    "    df[f\"timeline.{stage}.date\"] = df.apply(add_units_dates, args=(stage,), axis=1)\n",
    "\n",
    "# Add column for Action\n",
    "action_names = [x for x in list(df) if x.startswith(\"action.\") and len(x.split(\".\")) == 2]\n",
    "df[\"Actions\"] = df.apply(concatenate_actions, args=(action_names,), axis=1)\n"
   ]
  },
  {
   "cell_type": "markdown",
   "id": "cb8822af",
   "metadata": {},
   "source": [
    "#### Year"
   ]
  },
  {
   "cell_type": "code",
   "execution_count": null,
   "id": "10d1d727",
   "metadata": {},
   "outputs": [],
   "source": [
    "# Plot the count of incidents per year\n",
    "frequency_distribution = df[\"timeline.incident.year\"].value_counts().reset_index()\n",
    "frequency_distribution.columns = [\"Year\", \"Count\"]\n",
    "\n",
    "plot = sns.barplot(x=\"Year\", y=\"Count\", data=frequency_distribution)\n",
    "plot.set(\n",
    "    xlabel = \"Count\", \n",
    "    ylabel = \"Year\", \n",
    "    title = \"Incidents Coutn per Year\",\n",
    ")\n",
    "\n",
    "plt.show()"
   ]
  },
  {
   "cell_type": "markdown",
   "id": "fabb75cd",
   "metadata": {},
   "source": [
    "### Frequency distribution"
   ]
  },
  {
   "cell_type": "markdown",
   "id": "607127ac",
   "metadata": {},
   "source": [
    "#### Threat Action"
   ]
  },
  {
   "cell_type": "code",
   "execution_count": null,
   "id": "7461fbcc",
   "metadata": {},
   "outputs": [],
   "source": [
    "df[action_names].describe()"
   ]
  },
  {
   "cell_type": "code",
   "execution_count": null,
   "id": "23b14c36",
   "metadata": {},
   "outputs": [],
   "source": [
    "# Calculate frequency distribution of actions for each column\n",
    "action_frequency = df.lo[action_names].sum()\n",
    "\n",
    "# Convert to DataFrame for better readability\n",
    "df_action_frequency = action_frequency.sort_values(axis=\"index\", ascending=False).reset_index()\n",
    "df_action_frequency.columns = [\"Action\", \"Count\"]\n",
    "\n",
    "plot = sns.barplot(x=\"Count\", y=\"Action\", data=df_action_frequency)\n",
    "plot.set(\n",
    "    xlabel = \"Count\", \n",
    "    ylabel = \"Threat Action\", \n",
    "    title = \"Frequency Distribution of Threat Actions\",\n",
    ")\n",
    "\n",
    "plt.show()"
   ]
  },
  {
   "cell_type": "code",
   "execution_count": null,
   "id": "71a7399f",
   "metadata": {},
   "outputs": [],
   "source": [
    "# Calculate the frequency distribution of actions for the combined values\n",
    "frequency_distribution = df[\"Actions\"].value_counts().reset_index()\n",
    "frequency_distribution.columns = [\"Actions\", \"count\"]\n",
    "\n",
    "\n",
    "plot = sns.barplot(x=\"count\", y=\"Actions\", data=frequency_distribution.head(20))\n",
    "plot.set(\n",
    "    xlabel = \"Count\", \n",
    "    ylabel = \"Threat Action (Top 20)\", \n",
    "    title = \"Top 20 Threat Actions by Frequency\",\n",
    ")\n",
    "\n",
    "plt.show()"
   ]
  },
  {
   "cell_type": "markdown",
   "id": "2bb2d0cc",
   "metadata": {},
   "source": [
    "#### Industry Names"
   ]
  },
  {
   "cell_type": "code",
   "execution_count": null,
   "id": "c8137911",
   "metadata": {},
   "outputs": [],
   "source": [
    "# Calculate the frequency distribution of industry names\n",
    "frequency_distribution = df[\"victim.industry.name\"].value_counts().reset_index()\n",
    "frequency_distribution.columns = [\"Industry\", \"count\"]\n",
    "\n",
    "plot = sns.barplot(x=\"count\", y=\"Industry\", data=frequency_distribution)\n",
    "plot.set(\n",
    "    xlabel = \"Count\", \n",
    "    ylabel = \"Industry Name\", \n",
    "    title = \"Frequency Distribution of Industry\",\n",
    ")\n",
    "\n",
    "plt.show()"
   ]
  }
 ],
 "metadata": {
  "kernelspec": {
   "display_name": "Python 3 (ipykernel)",
   "language": "python",
   "name": "python3"
  },
  "language_info": {
   "codemirror_mode": {
    "name": "ipython",
    "version": 3
   },
   "file_extension": ".py",
   "mimetype": "text/x-python",
   "name": "python",
   "nbconvert_exporter": "python",
   "pygments_lexer": "ipython3",
   "version": "3.11.1"
  }
 },
 "nbformat": 4,
 "nbformat_minor": 5
}
