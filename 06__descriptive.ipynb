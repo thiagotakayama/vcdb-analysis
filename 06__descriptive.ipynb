{
 "cells": [
  {
   "cell_type": "markdown",
   "id": "250278b3",
   "metadata": {},
   "source": [
    "## Descriptive Statistics "
   ]
  },
  {
   "cell_type": "code",
   "execution_count": null,
   "id": "962c0c97-7683-4a22-957f-edff9451caad",
   "metadata": {},
   "outputs": [],
   "source": [
    "import pandas as pd\n",
    "import matplotlib.pyplot as plt\n",
    "import seaborn as sns\n",
    "from transformation import get_transformed_dataset\n",
    "\n",
    "df = get_transformed_dataset()"
   ]
  },
  {
   "cell_type": "markdown",
   "id": "cb8822af",
   "metadata": {},
   "source": [
    "#### Year"
   ]
  },
  {
   "cell_type": "code",
   "execution_count": null,
   "id": "10d1d727",
   "metadata": {},
   "outputs": [],
   "source": [
    "# Plot the count of incidents per year\n",
    "frequency_distribution = df[\"timeline.incident.year\"].value_counts().reset_index()\n",
    "frequency_distribution.columns = [\"Year\", \"Count\"]\n",
    "\n",
    "plot = sns.barplot(x=\"Year\", y=\"Count\", data=frequency_distribution)\n",
    "plot.set(\n",
    "    xlabel = \"Count\", \n",
    "    ylabel = \"Year\", \n",
    "    title = \"Incidents Coutn per Year\",\n",
    ")\n",
    "plt.show()\n"
   ]
  },
  {
   "cell_type": "markdown",
   "id": "fabb75cd",
   "metadata": {},
   "source": [
    "### Frequency distribution"
   ]
  },
  {
   "cell_type": "markdown",
   "id": "607127ac",
   "metadata": {},
   "source": [
    "#### Threat Action"
   ]
  },
  {
   "cell_type": "code",
   "execution_count": null,
   "id": "71a7399f",
   "metadata": {},
   "outputs": [],
   "source": [
    "# Calculate the frequency distribution of actions for the combined values\n",
    "frequency_distribution = df[\"Actions\"].value_counts().reset_index()\n",
    "frequency_distribution.columns = [\"Actions\", \"count\"]\n",
    "\n",
    "# Plot\n",
    "plot = sns.barplot(x=\"count\", y=\"Actions\", data=frequency_distribution.head(20))\n",
    "plot.set(\n",
    "    xlabel = \"Count\", \n",
    "    ylabel = \"Threat Action (Top 20)\", \n",
    "    title = \"Top 20 Threat Actions by Frequency\",\n",
    ")\n",
    "\n",
    "plt.show()"
   ]
  },
  {
   "cell_type": "markdown",
   "id": "2bb2d0cc",
   "metadata": {},
   "source": [
    "#### Industry Names"
   ]
  },
  {
   "cell_type": "code",
   "execution_count": null,
   "id": "c8137911",
   "metadata": {},
   "outputs": [],
   "source": [
    "# Calculate the frequency distribution of industry names\n",
    "frequency_distribution = df[\"victim.industry.name\"].value_counts().reset_index()\n",
    "frequency_distribution.columns = [\"Industry\", \"count\"]\n",
    "\n",
    "# Plot\n",
    "plot = sns.barplot(x=\"count\", y=\"Industry\", data=frequency_distribution)\n",
    "plot.set(\n",
    "    xlabel = \"Count\", \n",
    "    ylabel = \"Industry Name\", \n",
    "    title = \"Frequency Distribution of Industry\",\n",
    ")\n",
    "\n",
    "plt.show()"
   ]
  }
 ],
 "metadata": {
  "kernelspec": {
   "display_name": "Python 3 (ipykernel)",
   "language": "python",
   "name": "python3"
  },
  "language_info": {
   "codemirror_mode": {
    "name": "ipython",
    "version": 3
   },
   "file_extension": ".py",
   "mimetype": "text/x-python",
   "name": "python",
   "nbconvert_exporter": "python",
   "pygments_lexer": "ipython3",
   "version": "3.11.1"
  }
 },
 "nbformat": 4,
 "nbformat_minor": 5
}
