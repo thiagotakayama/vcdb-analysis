{
 "cells": [
  {
   "cell_type": "markdown",
   "id": "a44efcef",
   "metadata": {},
   "source": [
    "## Data transformation"
   ]
  },
  {
   "cell_type": "code",
   "execution_count": 1,
   "id": "962c0c97-7683-4a22-957f-edff9451caad",
   "metadata": {},
   "outputs": [],
   "source": [
    "import json\n",
    "import pandas as pd\n",
    "from pathlib import Path\n",
    "from helper import add_units_dates, concatenate_actions, concatenate_vectors\n",
    "\n",
    "dtypes = json.loads(Path(\"data/dtypes.json\").read_text())\n",
    "df = pd.read_csv(\"data/vcdb.csv\", dtype=dtypes)\n",
    "\n",
    "# Remove columns with only empty values\n",
    "df.dropna(axis=\"columns\", how=\"all\", inplace=True)\n",
    "\n",
    "# Filter old incidents\n",
    "since = 2013\n",
    "until = 2024\n",
    "df.drop(df.loc[df[\"timeline.incident.year\"] < since].index, inplace=True)\n",
    "df.drop(df.loc[df[\"timeline.incident.year\"] > until].index, inplace=True)\n",
    "\n",
    "# Add column with incident date\n",
    "df[\"timeline.incident.date\"] = pd.to_datetime(\n",
    "    df.rename(columns={\n",
    "        \"timeline.incident.year\": \"year\", \n",
    "        \"timeline.incident.month\": \"month\", \n",
    "        \"timeline.incident.day\": \"day\"}\n",
    "        )\n",
    "        [[\"year\", \"month\", \"day\"]], errors=\"coerce\")\n",
    "\n",
    "# Add columns for milestones dates \n",
    "stages = [\"discovery\", \"compromise\", \"exfiltration\", \"containment\" ]\n",
    "for stage in stages:\n",
    "    df[f\"timeline.{stage}.date\"] = df.apply(add_units_dates, args=(stage,), axis=1)\n",
    "\n",
    "# Add column for Action\n",
    "action_names = [x for x in list(df) if x.startswith(\"action.\") and len(x.split(\".\")) == 2]\n",
    "df[\"Actions\"] = df.apply(concatenate_actions, args=(action_names,), axis=1)\n",
    "\n",
    "# Add column for Vector\n",
    "vector_names = [x for x in list(df) if (\".vector.\") in x  and len(x.split(\".\")) == 4]\n",
    "df[\"Vectors\"] = df.apply(concatenate_vectors, args=(vector_names,), axis=1)\n"
   ]
  }
 ],
 "metadata": {
  "kernelspec": {
   "display_name": "Python 3 (ipykernel)",
   "language": "python",
   "name": "python3"
  },
  "language_info": {
   "codemirror_mode": {
    "name": "ipython",
    "version": 3
   },
   "file_extension": ".py",
   "mimetype": "text/x-python",
   "name": "python",
   "nbconvert_exporter": "python",
   "pygments_lexer": "ipython3",
   "version": "3.11.1"
  }
 },
 "nbformat": 4,
 "nbformat_minor": 5
}
